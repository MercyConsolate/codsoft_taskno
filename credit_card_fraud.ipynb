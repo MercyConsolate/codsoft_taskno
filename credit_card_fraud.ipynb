{
  "cells": [
    {
      "cell_type": "markdown",
      "metadata": {
        "id": "VS8q2RwY-0mR"
      },
      "source": [
        "# **Credit Card Fraud Prediction**\n",
        "### **Predicting Fraudulent Credit Card Transactions using Logistic regression Algorithm**\n",
        "## **Mercy Consolate Akello**\n",
        "## **2024-01-12**"
      ]
    },
    {
      "cell_type": "markdown",
      "metadata": {
        "id": "bZCmp_yn-0mU"
      },
      "source": [
        "## **Introduction**\n",
        "\n",
        "**In today's digital age, credit card fraud has become a significant concern for both financial institutions and consumers. Detecting fraudulent transactions accurately and efficiently is crucial to protect individuals and businesses from financial losses. Machine learning models have emerged as powerful tools in identifying fraudulent credit card transactions, leveraging the vast amount of transaction data available.**\n",
        "\n",
        "**The objective of this task is to build a robust machine learning model that can effectively classify credit card transactions as either fraudulent or genuine. To achieve this, several steps will be undertaken. First, the transaction data will be preprocessed and normalized to ensure consistency and remove any inconsistencies or outliers that may affect the model's performance.**\n",
        "\n",
        "**One challenge in building such a model is the class imbalance issue, where the number of fraudulent transactions is significantly lower than genuine ones. To address this, techniques like oversampling or undersampling can be employed to balance the classes and improve the model's ability to detect fraudulent transactions accurately.**\n",
        "\n",
        "**The dataset will then be split into training and testing sets, allowing us to train the model on a portion of the data and evaluate its performance on unseen data. Various classification algorithms, such as logistic regression or random forests, can be considered for training the model. These algorithms have proven to be effective in handling binary classification tasks and can provide valuable insights into the likelihood of a transaction being fraudulent.**\n",
        "\n",
        "**Finally, the model's performance will be evaluated using appropriate metrics such as Area Under Curve (AUC). These metrics will help assess the model's ability to correctly classify fraudulent and genuine transactions and provide insights into its overall effectiveness.**\n",
        "\n",
        "**By building a machine learning model to identify fraudulent credit card transactions, we aim to enhance fraud detection capabilities, minimize financial losses, and ensure the security of individuals and businesses. This task showcases the power of machine learning in addressing real-world challenges and highlights the importance of continuous improvement and evaluation to achieve optimal results.**"
      ]
    },
    {
      "cell_type": "markdown",
      "metadata": {
        "id": "5IQOq2ad-0mW"
      },
      "source": [
        "## **Load data**"
      ]
    },
    {
      "cell_type": "code",
      "execution_count": 1,
      "metadata": {
        "colab": {
          "base_uri": "https://localhost:8080/"
        },
        "id": "FlNgSpFA-0mX",
        "outputId": "15c4c662-9327-40f8-ab1f-38c052b6bf93",
        "vscode": {
          "languageId": "r"
        }
      },
      "outputs": [
        {
          "name": "stderr",
          "output_type": "stream",
          "text": [
            "\u001b[1mRows: \u001b[22m\u001b[34m9964\u001b[39m \u001b[1mColumns: \u001b[22m\u001b[34m31\u001b[39m\n",
            "\u001b[36m──\u001b[39m \u001b[1mColumn specification\u001b[22m \u001b[36m────────────────────────────────────────────────────────\u001b[39m\n",
            "\u001b[1mDelimiter:\u001b[22m \",\"\n",
            "\u001b[32mdbl\u001b[39m (31): Time, V1, V2, V3, V4, V5, V6, V7, V8, V9, V10, V11, V12, V13, V14,...\n",
            "\n",
            "\u001b[36mℹ\u001b[39m Use `spec()` to retrieve the full column specification for this data.\n",
            "\u001b[36mℹ\u001b[39m Specify the column types or set `show_col_types = FALSE` to quiet this message.\n"
          ]
        }
      ],
      "source": [
        "library(readr)\n",
        "creditcard <- read_csv(\"/content/creditcard.csv\")"
      ]
    },
    {
      "cell_type": "markdown",
      "metadata": {
        "id": "Cf-FWppp-0mZ"
      },
      "source": [
        "### **Check for missing data**"
      ]
    },
    {
      "cell_type": "code",
      "execution_count": 2,
      "metadata": {
        "colab": {
          "base_uri": "https://localhost:8080/",
          "height": 69
        },
        "id": "I_JNzsTH-0mZ",
        "outputId": "eb337ed6-969e-4078-806d-a53a22dca864",
        "vscode": {
          "languageId": "r"
        }
      },
      "outputs": [
        {
          "data": {
            "text/html": [
              "<style>\n",
              ".dl-inline {width: auto; margin:0; padding: 0}\n",
              ".dl-inline>dt, .dl-inline>dd {float: none; width: auto; display: inline-block}\n",
              ".dl-inline>dt::after {content: \":\\0020\"; padding-right: .5ex}\n",
              ".dl-inline>dt:not(:first-of-type) {padding-left: .5ex}\n",
              "</style><dl class=dl-inline><dt>Time</dt><dd>0</dd><dt>V1</dt><dd>0</dd><dt>V2</dt><dd>0</dd><dt>V3</dt><dd>0</dd><dt>V4</dt><dd>0</dd><dt>V5</dt><dd>0</dd><dt>V6</dt><dd>0</dd><dt>V7</dt><dd>0</dd><dt>V8</dt><dd>0</dd><dt>V9</dt><dd>0</dd><dt>V10</dt><dd>0</dd><dt>V11</dt><dd>0</dd><dt>V12</dt><dd>0</dd><dt>V13</dt><dd>0</dd><dt>V14</dt><dd>0</dd><dt>V15</dt><dd>0</dd><dt>V16</dt><dd>0</dd><dt>V17</dt><dd>0</dd><dt>V18</dt><dd>0</dd><dt>V19</dt><dd>0</dd><dt>V20</dt><dd>0</dd><dt>V21</dt><dd>0</dd><dt>V22</dt><dd>0</dd><dt>V23</dt><dd>0</dd><dt>V24</dt><dd>0</dd><dt>V25</dt><dd>0</dd><dt>V26</dt><dd>0</dd><dt>V27</dt><dd>0</dd><dt>V28</dt><dd>0</dd><dt>Amount</dt><dd>0</dd><dt>Class</dt><dd>0</dd></dl>\n"
            ],
            "text/latex": [
              "\\begin{description*}\n",
              "\\item[Time] 0\n",
              "\\item[V1] 0\n",
              "\\item[V2] 0\n",
              "\\item[V3] 0\n",
              "\\item[V4] 0\n",
              "\\item[V5] 0\n",
              "\\item[V6] 0\n",
              "\\item[V7] 0\n",
              "\\item[V8] 0\n",
              "\\item[V9] 0\n",
              "\\item[V10] 0\n",
              "\\item[V11] 0\n",
              "\\item[V12] 0\n",
              "\\item[V13] 0\n",
              "\\item[V14] 0\n",
              "\\item[V15] 0\n",
              "\\item[V16] 0\n",
              "\\item[V17] 0\n",
              "\\item[V18] 0\n",
              "\\item[V19] 0\n",
              "\\item[V20] 0\n",
              "\\item[V21] 0\n",
              "\\item[V22] 0\n",
              "\\item[V23] 0\n",
              "\\item[V24] 0\n",
              "\\item[V25] 0\n",
              "\\item[V26] 0\n",
              "\\item[V27] 0\n",
              "\\item[V28] 0\n",
              "\\item[Amount] 0\n",
              "\\item[Class] 0\n",
              "\\end{description*}\n"
            ],
            "text/markdown": [
              "Time\n",
              ":   0V1\n",
              ":   0V2\n",
              ":   0V3\n",
              ":   0V4\n",
              ":   0V5\n",
              ":   0V6\n",
              ":   0V7\n",
              ":   0V8\n",
              ":   0V9\n",
              ":   0V10\n",
              ":   0V11\n",
              ":   0V12\n",
              ":   0V13\n",
              ":   0V14\n",
              ":   0V15\n",
              ":   0V16\n",
              ":   0V17\n",
              ":   0V18\n",
              ":   0V19\n",
              ":   0V20\n",
              ":   0V21\n",
              ":   0V22\n",
              ":   0V23\n",
              ":   0V24\n",
              ":   0V25\n",
              ":   0V26\n",
              ":   0V27\n",
              ":   0V28\n",
              ":   0Amount\n",
              ":   0Class\n",
              ":   0\n",
              "\n"
            ],
            "text/plain": [
              "  Time     V1     V2     V3     V4     V5     V6     V7     V8     V9    V10 \n",
              "     0      0      0      0      0      0      0      0      0      0      0 \n",
              "   V11    V12    V13    V14    V15    V16    V17    V18    V19    V20    V21 \n",
              "     0      0      0      0      0      0      0      0      0      0      0 \n",
              "   V22    V23    V24    V25    V26    V27    V28 Amount  Class \n",
              "     0      0      0      0      0      0      0      0      0 "
            ]
          },
          "metadata": {},
          "output_type": "display_data"
        }
      ],
      "source": [
        "colSums(is.na(creditcard))"
      ]
    },
    {
      "cell_type": "markdown",
      "metadata": {
        "id": "teb5ghcU-0ma"
      },
      "source": [
        "**No missing values were found in the data**"
      ]
    },
    {
      "cell_type": "markdown",
      "metadata": {
        "id": "OQ7JsFSt-0ma"
      },
      "source": [
        "## **Convert data type**"
      ]
    },
    {
      "cell_type": "code",
      "execution_count": 3,
      "metadata": {
        "id": "R3_yiHSr-0ma",
        "vscode": {
          "languageId": "r"
        }
      },
      "outputs": [],
      "source": [
        "creditcard$Class=as.factor(creditcard$Class)"
      ]
    },
    {
      "cell_type": "markdown",
      "metadata": {
        "id": "9G1Axt6U-0mc"
      },
      "source": [
        "## **Perform Exploratory Data Analysis**"
      ]
    },
    {
      "cell_type": "code",
      "execution_count": 4,
      "metadata": {
        "colab": {
          "base_uri": "https://localhost:8080/",
          "height": 437
        },
        "id": "Q7t-pY-8-0mc",
        "outputId": "099eb39a-147c-4f9b-b49a-79362ac1f951",
        "vscode": {
          "languageId": "r"
        }
      },
      "outputs": [
        {
          "data": {
            "image/png": "[encoded data removed]",
            "text/plain": [
              "plot without title"
            ]
          },
          "metadata": {
            "image/png": {
              "height": 420,
              "width": 420
            }
          },
          "output_type": "display_data"
        }
      ],
      "source": [
        "library(ggplot2)\n",
        "ggplot(creditcard,aes(Class))+\n",
        "  geom_bar(fill='maroon')+\n",
        "  theme_classic()"
      ]
    },
    {
      "cell_type": "markdown",
      "metadata": {
        "id": "fCdPBmm_-0md"
      },
      "source": [
        "**1 means Fraudlent Transaction**\n",
        "\n",
        "**0 means Non Fraudlent Transaction**\n",
        "\n",
        "**There exists an imbalance in the distribution of the Class variable**\n",
        "\n",
        "**The category 1 has less than 75% of the category 0.**"
      ]
    },
    {
      "cell_type": "code",
      "execution_count": 5,
      "metadata": {
        "colab": {
          "base_uri": "https://localhost:8080/",
          "height": 437
        },
        "id": "gKjClpAj-0md",
        "outputId": "718a72aa-775a-4e03-eec3-1dbea1d4eea7",
        "vscode": {
          "languageId": "r"
        }
      },
      "outputs": [
        {
          "data": {
            "image/png": "[encoded data removed]",
            "text/plain": [
              "plot without title"
            ]
          },
          "metadata": {
            "image/png": {
              "height": 420,
              "width": 420
            }
          },
          "output_type": "display_data"
        }
      ],
      "source": [
        "ggplot(creditcard,aes(Time))+\n",
        "  geom_histogram(bins=25,fill='maroon')+\n",
        "  theme_classic()+\n",
        "  theme(axis.text.x=element_text(size=8,face = 'bold',color='black'),\n",
        "        axis.text.y=element_text(size=8,face='bold',color='black'))+\n",
        "  labs(title = 'Distribution of Time',y='Count of Transactions')"
      ]
    },
    {
      "cell_type": "markdown",
      "metadata": {
        "id": "YD31lS87-0md"
      },
      "source": [
        "**There is a bimodal distribution in the time.**"
      ]
    },
    {
      "cell_type": "code",
      "execution_count": 6,
      "metadata": {
        "colab": {
          "base_uri": "https://localhost:8080/",
          "height": 437
        },
        "id": "oEgMTANM-0md",
        "outputId": "ca5a8358-13b0-4caf-f992-764770215774",
        "vscode": {
          "languageId": "r"
        }
      },
      "outputs": [
        {
          "data": {
            "image/png": "[encoded data removed]",
            "text/plain": [
              "plot without title"
            ]
          },
          "metadata": {
            "image/png": {
              "height": 420,
              "width": 420
            }
          },
          "output_type": "display_data"
        }
      ],
      "source": [
        "ggplot(creditcard,aes(Class,Time))+\n",
        "  geom_boxplot(fill='maroon')+\n",
        "  theme_classic()+\n",
        "  theme(axis.text.x=element_text(size=8,face = 'bold',color='black'),\n",
        "        axis.text.y=element_text(size=8,face='bold',color='black'))+\n",
        "  labs(title = 'Distribution of Time')"
      ]
    },
    {
      "cell_type": "markdown",
      "metadata": {
        "id": "P5nA5Knj-0me"
      },
      "source": [
        "## **Split dataset into two**"
      ]
    },
    {
      "cell_type": "code",
      "execution_count": null,
      "metadata": {
        "id": "HswpPNMA-0me",
        "vscode": {
          "languageId": "r"
        }
      },
      "outputs": [],
      "source": [
        "# Only install this if it's not yet installed.\n",
        "#install.packages(\"caTools\")"
      ]
    },
    {
      "cell_type": "code",
      "execution_count": 8,
      "metadata": {
        "id": "DPOgugOD-0me",
        "vscode": {
          "languageId": "r"
        }
      },
      "outputs": [],
      "source": [
        "library(caTools)\n",
        "set.seed(02468)\n",
        "sample=sample.split(creditcard$Class,SplitRatio=.80)\n",
        "train=subset(creditcard, sample==TRUE)\n",
        "test=subset(creditcard, sample==FALSE)"
      ]
    },
    {
      "cell_type": "markdown",
      "metadata": {
        "id": "hjD6kNV3-0me"
      },
      "source": [
        "## **Handle class imbalance**\n",
        "### **Upsample the Train set**\n",
        "\n",
        "**Due to the imbalance in the \"Class\" variable, I went ahead to apply upsampling technique to the train dataset before building the predictive model**"
      ]
    },
    {
      "cell_type": "code",
      "execution_count": null,
      "metadata": {
        "id": "XbLmc65JAGdV",
        "vscode": {
          "languageId": "r"
        }
      },
      "outputs": [],
      "source": [
        "# Only install this if it's not yet installed.\n",
        "#install.packages(\"caret\")"
      ]
    },
    {
      "cell_type": "code",
      "execution_count": 10,
      "metadata": {
        "colab": {
          "base_uri": "https://localhost:8080/"
        },
        "id": "AIjB0iXF-0me",
        "outputId": "df5d1979-281b-4436-9252-bde16ddbd067",
        "vscode": {
          "languageId": "r"
        }
      },
      "outputs": [
        {
          "name": "stderr",
          "output_type": "stream",
          "text": [
            "Loading required package: lattice\n",
            "\n"
          ]
        }
      ],
      "source": [
        "library(caret)\n",
        "train=upSample(train,train$Class)\n",
        "train=subset(train,select=-Class)"
      ]
    },
    {
      "cell_type": "code",
      "execution_count": 11,
      "metadata": {
        "colab": {
          "base_uri": "https://localhost:8080/",
          "height": 437
        },
        "id": "bwqb4djp-0mf",
        "outputId": "cd9e6def-6727-479b-cd84-28efdab416b6",
        "vscode": {
          "languageId": "r"
        }
      },
      "outputs": [
        {
          "data": {
            "image/png": "[encoded data removed]",
            "text/plain": [
              "plot without title"
            ]
          },
          "metadata": {
            "image/png": {
              "height": 420,
              "width": 420
            }
          },
          "output_type": "display_data"
        }
      ],
      "source": [
        "ggplot(train,aes(Class))+\n",
        "  geom_bar(fill='maroon')+\n",
        "  theme_classic()+\n",
        "  theme(axis.text.x=element_text(size=8,face = 'bold',color='black'),\n",
        "        axis.text.y=element_text(size=8,face='bold',color='black'))+\n",
        "  labs(title = 'Credit card Fraud',y='Count of Transactions')"
      ]
    },
    {
      "cell_type": "markdown",
      "metadata": {
        "id": "1Pi4-OjH-0mg"
      },
      "source": [
        "## **Model Building**\n",
        "### **Build a logistic regression model**"
      ]
    },
    {
      "cell_type": "code",
      "execution_count": 12,
      "metadata": {
        "colab": {
          "base_uri": "https://localhost:8080/"
        },
        "id": "sC3fDFbd-0mh",
        "outputId": "be476fee-fbca-42ca-a154-0e6933259c38",
        "vscode": {
          "languageId": "r"
        }
      },
      "outputs": [
        {
          "name": "stderr",
          "output_type": "stream",
          "text": [
            "Warning message:\n",
            "“glm.fit: algorithm did not converge”\n",
            "Warning message:\n",
            "“glm.fit: fitted probabilities numerically 0 or 1 occurred”\n"
          ]
        }
      ],
      "source": [
        "lr.model=glm(Class~., train, family='binomial')"
      ]
    },
    {
      "cell_type": "markdown",
      "metadata": {
        "id": "phAuwItY-0mi"
      },
      "source": [
        "## **Predict using test data**"
      ]
    },
    {
      "cell_type": "code",
      "execution_count": 13,
      "metadata": {
        "id": "SzdTCfAX-0mi",
        "vscode": {
          "languageId": "r"
        }
      },
      "outputs": [],
      "source": [
        "lr.mod.test=predict(lr.model, test, type='response')"
      ]
    },
    {
      "cell_type": "markdown",
      "metadata": {
        "id": "kahEf33V-0mj"
      },
      "source": [
        "## **Model performance**\n",
        "### **Check for model performance using test data**"
      ]
    },
    {
      "cell_type": "code",
      "execution_count": null,
      "metadata": {
        "id": "xU0lkATy-0mk",
        "vscode": {
          "languageId": "r"
        }
      },
      "outputs": [],
      "source": [
        "# Only install this if it's not yet installed.\n",
        "# install.packages(\"pROC\")"
      ]
    },
    {
      "cell_type": "code",
      "execution_count": 15,
      "metadata": {
        "colab": {
          "base_uri": "https://localhost:8080/",
          "height": 802
        },
        "id": "2oX6irDP-0mk",
        "outputId": "38a4ec33-960f-4067-dc82-d6f0f21216de",
        "vscode": {
          "languageId": "r"
        }
      },
      "outputs": [
        {
          "name": "stderr",
          "output_type": "stream",
          "text": [
            "Type 'citation(\"pROC\")' for a citation.\n",
            "\n",
            "\n",
            "Attaching package: ‘pROC’\n",
            "\n",
            "\n",
            "The following objects are masked from ‘package:stats’:\n",
            "\n",
            "    cov, smooth, var\n",
            "\n",
            "\n",
            "Setting levels: control = 0, case = 1\n",
            "\n",
            "Setting direction: controls < cases\n",
            "\n"
          ]
        },
        {
          "name": "stdout",
          "output_type": "stream",
          "text": [
            "\n",
            "Call:\n",
            "roc.default(response = train$Class, predictor = as.vector(fitted.values(lr.model)))\n",
            "\n",
            "Data: as.vector(fitted.values(lr.model)) in 7941 controls (train$Class 0) < 7941 cases (train$Class 1).\n",
            "Area under the curve: 1\n"
          ]
        },
        {
          "data": {
            "image/png": "[encoded data removed]",
            "text/plain": [
              "plot without title"
            ]
          },
          "metadata": {
            "image/png": {
              "height": 420,
              "width": 420
            }
          },
          "output_type": "display_data"
        }
      ],
      "source": [
        "library(pROC)\n",
        "tree.roc <- roc(train$Class,\n",
        "                as.vector(fitted.values(lr.model)))\n",
        "plot(tree.roc,identity.col='maroon')\n",
        "print(tree.roc)"
      ]
    },
    {
      "cell_type": "markdown",
      "metadata": {
        "id": "hpxk4PVR-0mk"
      },
      "source": [
        "## **Conclusion**\n",
        "\n",
        "**In conclusion, the model used in this task demonstrated exceptional performance in predicting credit fraud for the bank, as evidenced by the high Area Under the Curve (AUC) value of 1.0.A value close to 1 indicates that the model has a high level of accuracy and reliability in distinguishing between fraudulent and non-fraudulent transactions.**\n",
        "\n",
        "**This outcome is highly promising and suggests that the model can effectively assist the bank in identifying potential instances of credit fraud. By leveraging advanced machine learning techniques, such as the one employed in this task, financial institutions can enhance their fraud detection capabilities and mitigate potential risks. The impressive AUC value underscores the model's ability to make accurate predictions, providing valuable insights for proactive fraud prevention and safeguarding the bank's financial interests.**"
      ]
    }
  ],
  "metadata": {
    "colab": {
      "provenance": []
    },
    "kernelspec": {
      "display_name": "R",
      "language": "R",
      "name": "ir"
    },
    "language_info": {
      "codemirror_mode": "r",
      "file_extension": ".r",
      "mimetype": "text/x-r-source",
      "name": "R",
      "pygments_lexer": "r",
      "version": "3.6.1"
    }
  },
  "nbformat": 4,
  "nbformat_minor": 0
}
