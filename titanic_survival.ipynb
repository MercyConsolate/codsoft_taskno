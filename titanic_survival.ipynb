{
  "cells": [
    {
      "cell_type": "markdown",
      "metadata": {
        "id": "FLsq3n2uLHIE"
      },
      "source": [
        "# **Titanic Passenger Survival Prediction**\n",
        "### **Predicting Passenger Survival on the Titanic using Decision Tree Algorithm**\n",
        "## **Mercy Consolate Akello**\n",
        "## **2024-01-10**"
      ]
    },
    {
      "cell_type": "markdown",
      "metadata": {},
      "source": [
        "## **Introduction**\n",
        "\n",
        "**Welcome to the task of predicting passenger survival on the Titanic using the Titanic dataset.This project serves as a classic beginner's project, offering readily available data for analysis and modeling. The dataset provides valuable information about individual passengers, including their age, gender, ticket class, fare, cabin, and survival status. By leveraging this dataset, we aim to build a predictive model that can accurately determine whether a passenger survived or not during the tragic Titanic disaster.**\n",
        "\n",
        "**The Titanic dataset presents an excellent opportunity to explore the field of data analysis and machine learning. It allows us to delve into the factors that influenced passenger survival and understand the patterns and correlations within the data. By utilizing various machine learning algorithms and techniques, we can develop a robust model that can effectively predict survival outcomes based on the provided features.**\n",
        "\n",
        "**This project not only offers a chance to gain practical experience in data analysis and modeling but also provides insights into the historical event of the Titanic. By examining the dataset and building a predictive model, we can uncover valuable information about the factors that played a significant role in determining passenger survival. This knowledge can contribute to our understanding of the disaster and potentially inform future safety measures in similar scenarios.**\n",
        "\n",
        "**Throughout this task, we will explore the Titanic dataset, preprocess the data, and apply suitable machine learning algorithms to build a predictive model. By analyzing the features and their relationships, we aim to create a model that accurately predicts whether a passenger survived or not. This project serves as an excellent starting point for beginners in the field of data analysis and machine learning, offering a practical and engaging application of these techniques.**\n",
        "\n",
        "**Let's embark on this journey of analyzing the Titanic dataset and building a predictive model that sheds light on the factors influencing passenger survival during this historic event.**\n",
        "\n"
      ]
    },
    {
      "cell_type": "markdown",
      "metadata": {
        "id": "cVsdyTqeLHIR"
      },
      "source": [
        "## **Load data**"
      ]
    },
    {
      "cell_type": "code",
      "execution_count": 4,
      "metadata": {
        "colab": {
          "base_uri": "https://localhost:8080/"
        },
        "id": "fCEpaDFhLHIX",
        "outputId": "c9d65354-1131-48d5-c849-f15502ea9fe5",
        "vscode": {
          "languageId": "r"
        }
      },
      "outputs": [
        {
          "name": "stderr",
          "output_type": "stream",
          "text": [
            "\u001b[1mRows: \u001b[22m\u001b[34m418\u001b[39m \u001b[1mColumns: \u001b[22m\u001b[34m12\u001b[39m\n",
            "\u001b[36m──\u001b[39m \u001b[1mColumn specification\u001b[22m \u001b[36m────────────────────────────────────────────────────────\u001b[39m\n",
            "\u001b[1mDelimiter:\u001b[22m \",\"\n",
            "\u001b[31mchr\u001b[39m (5): Name, Sex, Ticket, Cabin, Embarked\n",
            "\u001b[32mdbl\u001b[39m (7): PassengerId, Survived, Pclass, Age, SibSp, Parch, Fare\n",
            "\n",
            "\u001b[36mℹ\u001b[39m Use `spec()` to retrieve the full column specification for this data.\n",
            "\u001b[36mℹ\u001b[39m Specify the column types or set `show_col_types = FALSE` to quiet this message.\n"
          ]
        }
      ],
      "source": [
        "library(readr)\n",
        "titanic <- read_csv(\"/content/titanic.csv\")"
      ]
    },
    {
      "cell_type": "markdown",
      "metadata": {
        "id": "JLYgYQFSVA9Z"
      },
      "source": [
        "**The dataset contains 418 observations and 12 variables.**"
      ]
    },
    {
      "cell_type": "markdown",
      "metadata": {
        "id": "3r62i-w_LHIh"
      },
      "source": [
        "### **Check for missing data**"
      ]
    },
    {
      "cell_type": "code",
      "execution_count": 5,
      "metadata": {
        "colab": {
          "base_uri": "https://localhost:8080/",
          "height": 52
        },
        "id": "8UsfS34ILHIm",
        "outputId": "be3b6b3f-d707-409f-b5dd-12458ce86259",
        "vscode": {
          "languageId": "r"
        }
      },
      "outputs": [
        {
          "data": {
            "text/html": [
              "<style>\n",
              ".dl-inline {width: auto; margin:0; padding: 0}\n",
              ".dl-inline>dt, .dl-inline>dd {float: none; width: auto; display: inline-block}\n",
              ".dl-inline>dt::after {content: \":\\0020\"; padding-right: .5ex}\n",
              ".dl-inline>dt:not(:first-of-type) {padding-left: .5ex}\n",
              "</style><dl class=dl-inline><dt>PassengerId</dt><dd>0</dd><dt>Survived</dt><dd>0</dd><dt>Pclass</dt><dd>0</dd><dt>Name</dt><dd>0</dd><dt>Sex</dt><dd>0</dd><dt>Age</dt><dd>0</dd><dt>SibSp</dt><dd>0</dd><dt>Parch</dt><dd>0</dd><dt>Ticket</dt><dd>0</dd><dt>Fare</dt><dd>0</dd><dt>Cabin</dt><dd>0</dd><dt>Embarked</dt><dd>0</dd></dl>\n"
            ],
            "text/latex": [
              "\\begin{description*}\n",
              "\\item[PassengerId] 0\n",
              "\\item[Survived] 0\n",
              "\\item[Pclass] 0\n",
              "\\item[Name] 0\n",
              "\\item[Sex] 0\n",
              "\\item[Age] 0\n",
              "\\item[SibSp] 0\n",
              "\\item[Parch] 0\n",
              "\\item[Ticket] 0\n",
              "\\item[Fare] 0\n",
              "\\item[Cabin] 0\n",
              "\\item[Embarked] 0\n",
              "\\end{description*}\n"
            ],
            "text/markdown": [
              "PassengerId\n",
              ":   0Survived\n",
              ":   0Pclass\n",
              ":   0Name\n",
              ":   0Sex\n",
              ":   0Age\n",
              ":   0SibSp\n",
              ":   0Parch\n",
              ":   0Ticket\n",
              ":   0Fare\n",
              ":   0Cabin\n",
              ":   0Embarked\n",
              ":   0\n",
              "\n"
            ],
            "text/plain": [
              "PassengerId    Survived      Pclass        Name         Sex         Age \n",
              "          0           0           0           0           0           0 \n",
              "      SibSp       Parch      Ticket        Fare       Cabin    Embarked \n",
              "          0           0           0           0           0           0 "
            ]
          },
          "metadata": {},
          "output_type": "display_data"
        }
      ],
      "source": [
        "colSums(is.na(titanic))"
      ]
    },
    {
      "cell_type": "markdown",
      "metadata": {
        "id": "VO1ENfG4LHIr"
      },
      "source": [
        "### **Check for duplicates**"
      ]
    },
    {
      "cell_type": "code",
      "execution_count": 6,
      "metadata": {
        "colab": {
          "base_uri": "https://localhost:8080/",
          "height": 382
        },
        "id": "GiiJzXAkLHIu",
        "outputId": "9ea1db05-8fc0-4b55-94f1-fdd3d14ac6a3",
        "vscode": {
          "languageId": "r"
        }
      },
      "outputs": [
        {
          "data": {
            "text/html": [
              "<style>\n",
              ".list-inline {list-style: none; margin:0; padding: 0}\n",
              ".list-inline>li {display: inline-block}\n",
              ".list-inline>li:not(:last-child)::after {content: \"\\00b7\"; padding: 0 .5ex}\n",
              "</style>\n",
              "<ol class=list-inline><li>FALSE</li><li>FALSE</li><li>FALSE</li><li>FALSE</li><li>FALSE</li><li>FALSE</li><li>FALSE</li><li>FALSE</li><li>FALSE</li><li>FALSE</li><li>FALSE</li><li>FALSE</li><li>FALSE</li><li>FALSE</li><li>FALSE</li><li>FALSE</li><li>FALSE</li><li>FALSE</li><li>FALSE</li><li>FALSE</li><li>FALSE</li><li>FALSE</li><li>FALSE</li><li>FALSE</li><li>FALSE</li><li>FALSE</li><li>FALSE</li><li>FALSE</li><li>FALSE</li><li>FALSE</li><li>FALSE</li><li>FALSE</li><li>FALSE</li><li>FALSE</li><li>FALSE</li><li>FALSE</li><li>FALSE</li><li>FALSE</li><li>FALSE</li><li>FALSE</li><li>FALSE</li><li>FALSE</li><li>FALSE</li><li>FALSE</li><li>FALSE</li><li>FALSE</li><li>FALSE</li><li>FALSE</li><li>FALSE</li><li>FALSE</li><li>FALSE</li><li>FALSE</li><li>FALSE</li><li>FALSE</li><li>FALSE</li><li>FALSE</li><li>FALSE</li><li>FALSE</li><li>FALSE</li><li>FALSE</li><li>FALSE</li><li>FALSE</li><li>FALSE</li><li>FALSE</li><li>FALSE</li><li>FALSE</li><li>FALSE</li><li>FALSE</li><li>FALSE</li><li>FALSE</li><li>FALSE</li><li>FALSE</li><li>FALSE</li><li>FALSE</li><li>FALSE</li><li>FALSE</li><li>FALSE</li><li>FALSE</li><li>FALSE</li><li>FALSE</li><li>FALSE</li><li>FALSE</li><li>FALSE</li><li>FALSE</li><li>FALSE</li><li>FALSE</li><li>FALSE</li><li>FALSE</li><li>FALSE</li><li>FALSE</li><li>FALSE</li><li>FALSE</li><li>FALSE</li><li>FALSE</li><li>FALSE</li><li>FALSE</li><li>FALSE</li><li>FALSE</li><li>FALSE</li><li>FALSE</li><li>FALSE</li><li>FALSE</li><li>FALSE</li><li>FALSE</li><li>FALSE</li><li>FALSE</li><li>FALSE</li><li>FALSE</li><li>FALSE</li><li>FALSE</li><li>FALSE</li><li>FALSE</li><li>FALSE</li><li>FALSE</li><li>FALSE</li><li>FALSE</li><li>FALSE</li><li>FALSE</li><li>FALSE</li><li>FALSE</li><li>FALSE</li><li>FALSE</li><li>FALSE</li><li>FALSE</li><li>FALSE</li><li>FALSE</li><li>FALSE</li><li>FALSE</li><li>FALSE</li><li>FALSE</li><li>FALSE</li><li>FALSE</li><li>FALSE</li><li>FALSE</li><li>FALSE</li><li>FALSE</li><li>FALSE</li><li>FALSE</li><li>FALSE</li><li>FALSE</li><li>FALSE</li><li>FALSE</li><li>FALSE</li><li>FALSE</li><li>FALSE</li><li>FALSE</li><li>FALSE</li><li>FALSE</li><li>FALSE</li><li>FALSE</li><li>FALSE</li><li>FALSE</li><li>FALSE</li><li>FALSE</li><li>FALSE</li><li>FALSE</li><li>FALSE</li><li>FALSE</li><li>FALSE</li><li>FALSE</li><li>FALSE</li><li>FALSE</li><li>FALSE</li><li>FALSE</li><li>FALSE</li><li>FALSE</li><li>FALSE</li><li>FALSE</li><li>FALSE</li><li>FALSE</li><li>FALSE</li><li>FALSE</li><li>FALSE</li><li>FALSE</li><li>FALSE</li><li>FALSE</li><li>FALSE</li><li>FALSE</li><li>FALSE</li><li>FALSE</li><li>FALSE</li><li>FALSE</li><li>FALSE</li><li>FALSE</li><li>FALSE</li><li>FALSE</li><li>FALSE</li><li>FALSE</li><li>FALSE</li><li>FALSE</li><li>FALSE</li><li>FALSE</li><li>FALSE</li><li>FALSE</li><li>FALSE</li><li>FALSE</li><li>FALSE</li><li>FALSE</li><li>FALSE</li><li>FALSE</li><li>⋯</li><li>FALSE</li><li>FALSE</li><li>FALSE</li><li>FALSE</li><li>FALSE</li><li>FALSE</li><li>FALSE</li><li>FALSE</li><li>FALSE</li><li>FALSE</li><li>FALSE</li><li>FALSE</li><li>FALSE</li><li>FALSE</li><li>FALSE</li><li>FALSE</li><li>FALSE</li><li>FALSE</li><li>FALSE</li><li>FALSE</li><li>FALSE</li><li>FALSE</li><li>FALSE</li><li>FALSE</li><li>FALSE</li><li>FALSE</li><li>FALSE</li><li>FALSE</li><li>FALSE</li><li>FALSE</li><li>FALSE</li><li>FALSE</li><li>FALSE</li><li>FALSE</li><li>FALSE</li><li>FALSE</li><li>FALSE</li><li>FALSE</li><li>FALSE</li><li>FALSE</li><li>FALSE</li><li>FALSE</li><li>FALSE</li><li>FALSE</li><li>FALSE</li><li>FALSE</li><li>FALSE</li><li>FALSE</li><li>FALSE</li><li>FALSE</li><li>FALSE</li><li>FALSE</li><li>FALSE</li><li>FALSE</li><li>FALSE</li><li>FALSE</li><li>FALSE</li><li>FALSE</li><li>FALSE</li><li>FALSE</li><li>FALSE</li><li>FALSE</li><li>FALSE</li><li>FALSE</li><li>FALSE</li><li>FALSE</li><li>FALSE</li><li>FALSE</li><li>FALSE</li><li>FALSE</li><li>FALSE</li><li>FALSE</li><li>FALSE</li><li>FALSE</li><li>FALSE</li><li>FALSE</li><li>FALSE</li><li>FALSE</li><li>FALSE</li><li>FALSE</li><li>FALSE</li><li>FALSE</li><li>FALSE</li><li>FALSE</li><li>FALSE</li><li>FALSE</li><li>FALSE</li><li>FALSE</li><li>FALSE</li><li>FALSE</li><li>FALSE</li><li>FALSE</li><li>FALSE</li><li>FALSE</li><li>FALSE</li><li>FALSE</li><li>FALSE</li><li>FALSE</li><li>FALSE</li><li>FALSE</li><li>FALSE</li><li>FALSE</li><li>FALSE</li><li>FALSE</li><li>FALSE</li><li>FALSE</li><li>FALSE</li><li>FALSE</li><li>FALSE</li><li>FALSE</li><li>FALSE</li><li>FALSE</li><li>FALSE</li><li>FALSE</li><li>FALSE</li><li>FALSE</li><li>FALSE</li><li>FALSE</li><li>FALSE</li><li>FALSE</li><li>FALSE</li><li>FALSE</li><li>FALSE</li><li>FALSE</li><li>FALSE</li><li>FALSE</li><li>FALSE</li><li>FALSE</li><li>FALSE</li><li>FALSE</li><li>FALSE</li><li>FALSE</li><li>FALSE</li><li>FALSE</li><li>FALSE</li><li>FALSE</li><li>FALSE</li><li>FALSE</li><li>FALSE</li><li>FALSE</li><li>FALSE</li><li>FALSE</li><li>FALSE</li><li>FALSE</li><li>FALSE</li><li>FALSE</li><li>FALSE</li><li>FALSE</li><li>FALSE</li><li>FALSE</li><li>FALSE</li><li>FALSE</li><li>FALSE</li><li>FALSE</li><li>FALSE</li><li>FALSE</li><li>FALSE</li><li>FALSE</li><li>FALSE</li><li>FALSE</li><li>FALSE</li><li>FALSE</li><li>FALSE</li><li>FALSE</li><li>FALSE</li><li>FALSE</li><li>FALSE</li><li>FALSE</li><li>FALSE</li><li>FALSE</li><li>FALSE</li><li>FALSE</li><li>FALSE</li><li>FALSE</li><li>FALSE</li><li>FALSE</li><li>FALSE</li><li>FALSE</li><li>FALSE</li><li>FALSE</li><li>FALSE</li><li>FALSE</li><li>FALSE</li><li>FALSE</li><li>FALSE</li><li>FALSE</li><li>FALSE</li><li>FALSE</li><li>FALSE</li><li>FALSE</li><li>FALSE</li><li>FALSE</li><li>FALSE</li><li>FALSE</li><li>FALSE</li><li>FALSE</li><li>FALSE</li><li>FALSE</li><li>FALSE</li><li>FALSE</li></ol>\n"
            ],
            "text/latex": [
              "\\begin{enumerate*}\n",
              "\\item FALSE\n",
              "\\item FALSE\n",
              "\\item FALSE\n",
              "\\item FALSE\n",
              "\\item FALSE\n",
              "\\item FALSE\n",
              "\\item FALSE\n",
              "\\item FALSE\n",
              "\\item FALSE\n",
              "\\item FALSE\n",
              "\\item FALSE\n",
              "\\item FALSE\n",
              "\\item FALSE\n",
              "\\item FALSE\n",
              "\\item FALSE\n",
              "\\item FALSE\n",
              "\\item FALSE\n",
              "\\item FALSE\n",
              "\\item FALSE\n",
              "\\item FALSE\n",
              "\\item FALSE\n",
              "\\item FALSE\n",
              "\\item FALSE\n",
              "\\item FALSE\n",
              "\\item FALSE\n",
              "\\item FALSE\n",
              "\\item FALSE\n",
              "\\item FALSE\n",
              "\\item FALSE\n",
              "\\item FALSE\n",
              "\\item FALSE\n",
              "\\item FALSE\n",
              "\\item FALSE\n",
              "\\item FALSE\n",
              "\\item FALSE\n",
              "\\item FALSE\n",
              "\\item FALSE\n",
              "\\item FALSE\n",
              "\\item FALSE\n",
              "\\item FALSE\n",
              "\\item FALSE\n",
              "\\item FALSE\n",
              "\\item FALSE\n",
              "\\item FALSE\n",
              "\\item FALSE\n",
              "\\item FALSE\n",
              "\\item FALSE\n",
              "\\item FALSE\n",
              "\\item FALSE\n",
              "\\item FALSE\n",
              "\\item FALSE\n",
              "\\item FALSE\n",
              "\\item FALSE\n",
              "\\item FALSE\n",
              "\\item FALSE\n",
              "\\item FALSE\n",
              "\\item FALSE\n",
              "\\item FALSE\n",
              "\\item FALSE\n",
              "\\item FALSE\n",
              "\\item FALSE\n",
              "\\item FALSE\n",
              "\\item FALSE\n",
              "\\item FALSE\n",
              "\\item FALSE\n",
              "\\item FALSE\n",
              "\\item FALSE\n",
              "\\item FALSE\n",
              "\\item FALSE\n",
              "\\item FALSE\n",
              "\\item FALSE\n",
              "\\item FALSE\n",
              "\\item FALSE\n",
              "\\item FALSE\n",
              "\\item FALSE\n",
              "\\item FALSE\n",
              "\\item FALSE\n",
              "\\item FALSE\n",
              "\\item FALSE\n",
              "\\item FALSE\n",
              "\\item FALSE\n",
              "\\item FALSE\n",
              "\\item FALSE\n",
              "\\item FALSE\n",
              "\\item FALSE\n",
              "\\item FALSE\n",
              "\\item FALSE\n",
              "\\item FALSE\n",
              "\\item FALSE\n",
              "\\item FALSE\n",
              "\\item FALSE\n",
              "\\item FALSE\n",
              "\\item FALSE\n",
              "\\item FALSE\n",
              "\\item FALSE\n",
              "\\item FALSE\n",
              "\\item FALSE\n",
              "\\item FALSE\n",
              "\\item FALSE\n",
              "\\item FALSE\n",
              "\\item FALSE\n",
              "\\item FALSE\n",
              "\\item FALSE\n",
              "\\item FALSE\n",
              "\\item FALSE\n",
              "\\item FALSE\n",
              "\\item FALSE\n",
              "\\item FALSE\n",
              "\\item FALSE\n",
              "\\item FALSE\n",
              "\\item FALSE\n",
              "\\item FALSE\n",
              "\\item FALSE\n",
              "\\item FALSE\n",
              "\\item FALSE\n",
              "\\item FALSE\n",
              "\\item FALSE\n",
              "\\item FALSE\n",
              "\\item FALSE\n",
              "\\item FALSE\n",
              "\\item FALSE\n",
              "\\item FALSE\n",
              "\\item FALSE\n",
              "\\item FALSE\n",
              "\\item FALSE\n",
              "\\item FALSE\n",
              "\\item FALSE\n",
              "\\item FALSE\n",
              "\\item FALSE\n",
              "\\item FALSE\n",
              "\\item FALSE\n",
              "\\item FALSE\n",
              "\\item FALSE\n",
              "\\item FALSE\n",
              "\\item FALSE\n",
              "\\item FALSE\n",
              "\\item FALSE\n",
              "\\item FALSE\n",
              "\\item FALSE\n",
              "\\item FALSE\n",
              "\\item FALSE\n",
              "\\item FALSE\n",
              "\\item FALSE\n",
              "\\item FALSE\n",
              "\\item FALSE\n",
              "\\item FALSE\n",
              "\\item FALSE\n",
              "\\item FALSE\n",
              "\\item FALSE\n",
              "\\item FALSE\n",
              "\\item FALSE\n",
              "\\item FALSE\n",
              "\\item FALSE\n",
              "\\item FALSE\n",
              "\\item FALSE\n",
              "\\item FALSE\n",
              "\\item FALSE\n",
              "\\item FALSE\n",
              "\\item FALSE\n",
              "\\item FALSE\n",
              "\\item FALSE\n",
              "\\item FALSE\n",
              "\\item FALSE\n",
              "\\item FALSE\n",
              "\\item FALSE\n",
              "\\item FALSE\n",
              "\\item FALSE\n",
              "\\item FALSE\n",
              "\\item FALSE\n",
              "\\item FALSE\n",
              "\\item FALSE\n",
              "\\item FALSE\n",
              "\\item FALSE\n",
              "\\item FALSE\n",
              "\\item FALSE\n",
              "\\item FALSE\n",
              "\\item FALSE\n",
              "\\item FALSE\n",
              "\\item FALSE\n",
              "\\item FALSE\n",
              "\\item FALSE\n",
              "\\item FALSE\n",
              "\\item FALSE\n",
              "\\item FALSE\n",
              "\\item FALSE\n",
              "\\item FALSE\n",
              "\\item FALSE\n",
              "\\item FALSE\n",
              "\\item FALSE\n",
              "\\item FALSE\n",
              "\\item FALSE\n",
              "\\item FALSE\n",
              "\\item FALSE\n",
              "\\item FALSE\n",
              "\\item FALSE\n",
              "\\item FALSE\n",
              "\\item FALSE\n",
              "\\item FALSE\n",
              "\\item FALSE\n",
              "\\item FALSE\n",
              "\\item ⋯\n",
              "\\item FALSE\n",
              "\\item FALSE\n",
              "\\item FALSE\n",
              "\\item FALSE\n",
              "\\item FALSE\n",
              "\\item FALSE\n",
              "\\item FALSE\n",
              "\\item FALSE\n",
              "\\item FALSE\n",
              "\\item FALSE\n",
              "\\item FALSE\n",
              "\\item FALSE\n",
              "\\item FALSE\n",
              "\\item FALSE\n",
              "\\item FALSE\n",
              "\\item FALSE\n",
              "\\item FALSE\n",
              "\\item FALSE\n",
              "\\item FALSE\n",
              "\\item FALSE\n",
              "\\item FALSE\n",
              "\\item FALSE\n",
              "\\item FALSE\n",
              "\\item FALSE\n",
              "\\item FALSE\n",
              "\\item FALSE\n",
              "\\item FALSE\n",
              "\\item FALSE\n",
              "\\item FALSE\n",
              "\\item FALSE\n",
              "\\item FALSE\n",
              "\\item FALSE\n",
              "\\item FALSE\n",
              "\\item FALSE\n",
              "\\item FALSE\n",
              "\\item FALSE\n",
              "\\item FALSE\n",
              "\\item FALSE\n",
              "\\item FALSE\n",
              "\\item FALSE\n",
              "\\item FALSE\n",
              "\\item FALSE\n",
              "\\item FALSE\n",
              "\\item FALSE\n",
              "\\item FALSE\n",
              "\\item FALSE\n",
              "\\item FALSE\n",
              "\\item FALSE\n",
              "\\item FALSE\n",
              "\\item FALSE\n",
              "\\item FALSE\n",
              "\\item FALSE\n",
              "\\item FALSE\n",
              "\\item FALSE\n",
              "\\item FALSE\n",
              "\\item FALSE\n",
              "\\item FALSE\n",
              "\\item FALSE\n",
              "\\item FALSE\n",
              "\\item FALSE\n",
              "\\item FALSE\n",
              "\\item FALSE\n",
              "\\item FALSE\n",
              "\\item FALSE\n",
              "\\item FALSE\n",
              "\\item FALSE\n",
              "\\item FALSE\n",
              "\\item FALSE\n",
              "\\item FALSE\n",
              "\\item FALSE\n",
              "\\item FALSE\n",
              "\\item FALSE\n",
              "\\item FALSE\n",
              "\\item FALSE\n",
              "\\item FALSE\n",
              "\\item FALSE\n",
              "\\item FALSE\n",
              "\\item FALSE\n",
              "\\item FALSE\n",
              "\\item FALSE\n",
              "\\item FALSE\n",
              "\\item FALSE\n",
              "\\item FALSE\n",
              "\\item FALSE\n",
              "\\item FALSE\n",
              "\\item FALSE\n",
              "\\item FALSE\n",
              "\\item FALSE\n",
              "\\item FALSE\n",
              "\\item FALSE\n",
              "\\item FALSE\n",
              "\\item FALSE\n",
              "\\item FALSE\n",
              "\\item FALSE\n",
              "\\item FALSE\n",
              "\\item FALSE\n",
              "\\item FALSE\n",
              "\\item FALSE\n",
              "\\item FALSE\n",
              "\\item FALSE\n",
              "\\item FALSE\n",
              "\\item FALSE\n",
              "\\item FALSE\n",
              "\\item FALSE\n",
              "\\item FALSE\n",
              "\\item FALSE\n",
              "\\item FALSE\n",
              "\\item FALSE\n",
              "\\item FALSE\n",
              "\\item FALSE\n",
              "\\item FALSE\n",
              "\\item FALSE\n",
              "\\item FALSE\n",
              "\\item FALSE\n",
              "\\item FALSE\n",
              "\\item FALSE\n",
              "\\item FALSE\n",
              "\\item FALSE\n",
              "\\item FALSE\n",
              "\\item FALSE\n",
              "\\item FALSE\n",
              "\\item FALSE\n",
              "\\item FALSE\n",
              "\\item FALSE\n",
              "\\item FALSE\n",
              "\\item FALSE\n",
              "\\item FALSE\n",
              "\\item FALSE\n",
              "\\item FALSE\n",
              "\\item FALSE\n",
              "\\item FALSE\n",
              "\\item FALSE\n",
              "\\item FALSE\n",
              "\\item FALSE\n",
              "\\item FALSE\n",
              "\\item FALSE\n",
              "\\item FALSE\n",
              "\\item FALSE\n",
              "\\item FALSE\n",
              "\\item FALSE\n",
              "\\item FALSE\n",
              "\\item FALSE\n",
              "\\item FALSE\n",
              "\\item FALSE\n",
              "\\item FALSE\n",
              "\\item FALSE\n",
              "\\item FALSE\n",
              "\\item FALSE\n",
              "\\item FALSE\n",
              "\\item FALSE\n",
              "\\item FALSE\n",
              "\\item FALSE\n",
              "\\item FALSE\n",
              "\\item FALSE\n",
              "\\item FALSE\n",
              "\\item FALSE\n",
              "\\item FALSE\n",
              "\\item FALSE\n",
              "\\item FALSE\n",
              "\\item FALSE\n",
              "\\item FALSE\n",
              "\\item FALSE\n",
              "\\item FALSE\n",
              "\\item FALSE\n",
              "\\item FALSE\n",
              "\\item FALSE\n",
              "\\item FALSE\n",
              "\\item FALSE\n",
              "\\item FALSE\n",
              "\\item FALSE\n",
              "\\item FALSE\n",
              "\\item FALSE\n",
              "\\item FALSE\n",
              "\\item FALSE\n",
              "\\item FALSE\n",
              "\\item FALSE\n",
              "\\item FALSE\n",
              "\\item FALSE\n",
              "\\item FALSE\n",
              "\\item FALSE\n",
              "\\item FALSE\n",
              "\\item FALSE\n",
              "\\item FALSE\n",
              "\\item FALSE\n",
              "\\item FALSE\n",
              "\\item FALSE\n",
              "\\item FALSE\n",
              "\\item FALSE\n",
              "\\item FALSE\n",
              "\\item FALSE\n",
              "\\item FALSE\n",
              "\\item FALSE\n",
              "\\item FALSE\n",
              "\\item FALSE\n",
              "\\item FALSE\n",
              "\\item FALSE\n",
              "\\item FALSE\n",
              "\\item FALSE\n",
              "\\item FALSE\n",
              "\\item FALSE\n",
              "\\end{enumerate*}\n"
            ],
            "text/markdown": [
              "1. FALSE\n",
              "2. FALSE\n",
              "3. FALSE\n",
              "4. FALSE\n",
              "5. FALSE\n",
              "6. FALSE\n",
              "7. FALSE\n",
              "8. FALSE\n",
              "9. FALSE\n",
              "10. FALSE\n",
              "11. FALSE\n",
              "12. FALSE\n",
              "13. FALSE\n",
              "14. FALSE\n",
              "15. FALSE\n",
              "16. FALSE\n",
              "17. FALSE\n",
              "18. FALSE\n",
              "19. FALSE\n",
              "20. FALSE\n",
              "21. FALSE\n",
              "22. FALSE\n",
              "23. FALSE\n",
              "24. FALSE\n",
              "25. FALSE\n",
              "26. FALSE\n",
              "27. FALSE\n",
              "28. FALSE\n",
              "29. FALSE\n",
              "30. FALSE\n",
              "31. FALSE\n",
              "32. FALSE\n",
              "33. FALSE\n",
              "34. FALSE\n",
              "35. FALSE\n",
              "36. FALSE\n",
              "37. FALSE\n",
              "38. FALSE\n",
              "39. FALSE\n",
              "40. FALSE\n",
              "41. FALSE\n",
              "42. FALSE\n",
              "43. FALSE\n",
              "44. FALSE\n",
              "45. FALSE\n",
              "46. FALSE\n",
              "47. FALSE\n",
              "48. FALSE\n",
              "49. FALSE\n",
              "50. FALSE\n",
              "51. FALSE\n",
              "52. FALSE\n",
              "53. FALSE\n",
              "54. FALSE\n",
              "55. FALSE\n",
              "56. FALSE\n",
              "57. FALSE\n",
              "58. FALSE\n",
              "59. FALSE\n",
              "60. FALSE\n",
              "61. FALSE\n",
              "62. FALSE\n",
              "63. FALSE\n",
              "64. FALSE\n",
              "65. FALSE\n",
              "66. FALSE\n",
              "67. FALSE\n",
              "68. FALSE\n",
              "69. FALSE\n",
              "70. FALSE\n",
              "71. FALSE\n",
              "72. FALSE\n",
              "73. FALSE\n",
              "74. FALSE\n",
              "75. FALSE\n",
              "76. FALSE\n",
              "77. FALSE\n",
              "78. FALSE\n",
              "79. FALSE\n",
              "80. FALSE\n",
              "81. FALSE\n",
              "82. FALSE\n",
              "83. FALSE\n",
              "84. FALSE\n",
              "85. FALSE\n",
              "86. FALSE\n",
              "87. FALSE\n",
              "88. FALSE\n",
              "89. FALSE\n",
              "90. FALSE\n",
              "91. FALSE\n",
              "92. FALSE\n",
              "93. FALSE\n",
              "94. FALSE\n",
              "95. FALSE\n",
              "96. FALSE\n",
              "97. FALSE\n",
              "98. FALSE\n",
              "99. FALSE\n",
              "100. FALSE\n",
              "101. FALSE\n",
              "102. FALSE\n",
              "103. FALSE\n",
              "104. FALSE\n",
              "105. FALSE\n",
              "106. FALSE\n",
              "107. FALSE\n",
              "108. FALSE\n",
              "109. FALSE\n",
              "110. FALSE\n",
              "111. FALSE\n",
              "112. FALSE\n",
              "113. FALSE\n",
              "114. FALSE\n",
              "115. FALSE\n",
              "116. FALSE\n",
              "117. FALSE\n",
              "118. FALSE\n",
              "119. FALSE\n",
              "120. FALSE\n",
              "121. FALSE\n",
              "122. FALSE\n",
              "123. FALSE\n",
              "124. FALSE\n",
              "125. FALSE\n",
              "126. FALSE\n",
              "127. FALSE\n",
              "128. FALSE\n",
              "129. FALSE\n",
              "130. FALSE\n",
              "131. FALSE\n",
              "132. FALSE\n",
              "133. FALSE\n",
              "134. FALSE\n",
              "135. FALSE\n",
              "136. FALSE\n",
              "137. FALSE\n",
              "138. FALSE\n",
              "139. FALSE\n",
              "140. FALSE\n",
              "141. FALSE\n",
              "142. FALSE\n",
              "143. FALSE\n",
              "144. FALSE\n",
              "145. FALSE\n",
              "146. FALSE\n",
              "147. FALSE\n",
              "148. FALSE\n",
              "149. FALSE\n",
              "150. FALSE\n",
              "151. FALSE\n",
              "152. FALSE\n",
              "153. FALSE\n",
              "154. FALSE\n",
              "155. FALSE\n",
              "156. FALSE\n",
              "157. FALSE\n",
              "158. FALSE\n",
              "159. FALSE\n",
              "160. FALSE\n",
              "161. FALSE\n",
              "162. FALSE\n",
              "163. FALSE\n",
              "164. FALSE\n",
              "165. FALSE\n",
              "166. FALSE\n",
              "167. FALSE\n",
              "168. FALSE\n",
              "169. FALSE\n",
              "170. FALSE\n",
              "171. FALSE\n",
              "172. FALSE\n",
              "173. FALSE\n",
              "174. FALSE\n",
              "175. FALSE\n",
              "176. FALSE\n",
              "177. FALSE\n",
              "178. FALSE\n",
              "179. FALSE\n",
              "180. FALSE\n",
              "181. FALSE\n",
              "182. FALSE\n",
              "183. FALSE\n",
              "184. FALSE\n",
              "185. FALSE\n",
              "186. FALSE\n",
              "187. FALSE\n",
              "188. FALSE\n",
              "189. FALSE\n",
              "190. FALSE\n",
              "191. FALSE\n",
              "192. FALSE\n",
              "193. FALSE\n",
              "194. FALSE\n",
              "195. FALSE\n",
              "196. FALSE\n",
              "197. FALSE\n",
              "198. FALSE\n",
              "199. FALSE\n",
              "200. FALSE\n",
              "201. ⋯\n",
              "202. FALSE\n",
              "203. FALSE\n",
              "204. FALSE\n",
              "205. FALSE\n",
              "206. FALSE\n",
              "207. FALSE\n",
              "208. FALSE\n",
              "209. FALSE\n",
              "210. FALSE\n",
              "211. FALSE\n",
              "212. FALSE\n",
              "213. FALSE\n",
              "214. FALSE\n",
              "215. FALSE\n",
              "216. FALSE\n",
              "217. FALSE\n",
              "218. FALSE\n",
              "219. FALSE\n",
              "220. FALSE\n",
              "221. FALSE\n",
              "222. FALSE\n",
              "223. FALSE\n",
              "224. FALSE\n",
              "225. FALSE\n",
              "226. FALSE\n",
              "227. FALSE\n",
              "228. FALSE\n",
              "229. FALSE\n",
              "230. FALSE\n",
              "231. FALSE\n",
              "232. FALSE\n",
              "233. FALSE\n",
              "234. FALSE\n",
              "235. FALSE\n",
              "236. FALSE\n",
              "237. FALSE\n",
              "238. FALSE\n",
              "239. FALSE\n",
              "240. FALSE\n",
              "241. FALSE\n",
              "242. FALSE\n",
              "243. FALSE\n",
              "244. FALSE\n",
              "245. FALSE\n",
              "246. FALSE\n",
              "247. FALSE\n",
              "248. FALSE\n",
              "249. FALSE\n",
              "250. FALSE\n",
              "251. FALSE\n",
              "252. FALSE\n",
              "253. FALSE\n",
              "254. FALSE\n",
              "255. FALSE\n",
              "256. FALSE\n",
              "257. FALSE\n",
              "258. FALSE\n",
              "259. FALSE\n",
              "260. FALSE\n",
              "261. FALSE\n",
              "262. FALSE\n",
              "263. FALSE\n",
              "264. FALSE\n",
              "265. FALSE\n",
              "266. FALSE\n",
              "267. FALSE\n",
              "268. FALSE\n",
              "269. FALSE\n",
              "270. FALSE\n",
              "271. FALSE\n",
              "272. FALSE\n",
              "273. FALSE\n",
              "274. FALSE\n",
              "275. FALSE\n",
              "276. FALSE\n",
              "277. FALSE\n",
              "278. FALSE\n",
              "279. FALSE\n",
              "280. FALSE\n",
              "281. FALSE\n",
              "282. FALSE\n",
              "283. FALSE\n",
              "284. FALSE\n",
              "285. FALSE\n",
              "286. FALSE\n",
              "287. FALSE\n",
              "288. FALSE\n",
              "289. FALSE\n",
              "290. FALSE\n",
              "291. FALSE\n",
              "292. FALSE\n",
              "293. FALSE\n",
              "294. FALSE\n",
              "295. FALSE\n",
              "296. FALSE\n",
              "297. FALSE\n",
              "298. FALSE\n",
              "299. FALSE\n",
              "300. FALSE\n",
              "301. FALSE\n",
              "302. FALSE\n",
              "303. FALSE\n",
              "304. FALSE\n",
              "305. FALSE\n",
              "306. FALSE\n",
              "307. FALSE\n",
              "308. FALSE\n",
              "309. FALSE\n",
              "310. FALSE\n",
              "311. FALSE\n",
              "312. FALSE\n",
              "313. FALSE\n",
              "314. FALSE\n",
              "315. FALSE\n",
              "316. FALSE\n",
              "317. FALSE\n",
              "318. FALSE\n",
              "319. FALSE\n",
              "320. FALSE\n",
              "321. FALSE\n",
              "322. FALSE\n",
              "323. FALSE\n",
              "324. FALSE\n",
              "325. FALSE\n",
              "326. FALSE\n",
              "327. FALSE\n",
              "328. FALSE\n",
              "329. FALSE\n",
              "330. FALSE\n",
              "331. FALSE\n",
              "332. FALSE\n",
              "333. FALSE\n",
              "334. FALSE\n",
              "335. FALSE\n",
              "336. FALSE\n",
              "337. FALSE\n",
              "338. FALSE\n",
              "339. FALSE\n",
              "340. FALSE\n",
              "341. FALSE\n",
              "342. FALSE\n",
              "343. FALSE\n",
              "344. FALSE\n",
              "345. FALSE\n",
              "346. FALSE\n",
              "347. FALSE\n",
              "348. FALSE\n",
              "349. FALSE\n",
              "350. FALSE\n",
              "351. FALSE\n",
              "352. FALSE\n",
              "353. FALSE\n",
              "354. FALSE\n",
              "355. FALSE\n",
              "356. FALSE\n",
              "357. FALSE\n",
              "358. FALSE\n",
              "359. FALSE\n",
              "360. FALSE\n",
              "361. FALSE\n",
              "362. FALSE\n",
              "363. FALSE\n",
              "364. FALSE\n",
              "365. FALSE\n",
              "366. FALSE\n",
              "367. FALSE\n",
              "368. FALSE\n",
              "369. FALSE\n",
              "370. FALSE\n",
              "371. FALSE\n",
              "372. FALSE\n",
              "373. FALSE\n",
              "374. FALSE\n",
              "375. FALSE\n",
              "376. FALSE\n",
              "377. FALSE\n",
              "378. FALSE\n",
              "379. FALSE\n",
              "380. FALSE\n",
              "381. FALSE\n",
              "382. FALSE\n",
              "383. FALSE\n",
              "384. FALSE\n",
              "385. FALSE\n",
              "386. FALSE\n",
              "387. FALSE\n",
              "388. FALSE\n",
              "389. FALSE\n",
              "390. FALSE\n",
              "391. FALSE\n",
              "392. FALSE\n",
              "393. FALSE\n",
              "394. FALSE\n",
              "395. FALSE\n",
              "396. FALSE\n",
              "397. FALSE\n",
              "398. FALSE\n",
              "399. FALSE\n",
              "400. FALSE\n",
              "401. FALSE\n",
              "\n",
              "\n"
            ],
            "text/plain": [
              "  [1] FALSE FALSE FALSE FALSE FALSE FALSE FALSE FALSE FALSE FALSE FALSE FALSE\n",
              " [13] FALSE FALSE FALSE FALSE FALSE FALSE FALSE FALSE FALSE FALSE FALSE FALSE\n",
              " [25] FALSE FALSE FALSE FALSE FALSE FALSE FALSE FALSE FALSE FALSE FALSE FALSE\n",
              " [37] FALSE FALSE FALSE FALSE FALSE FALSE FALSE FALSE FALSE FALSE FALSE FALSE\n",
              " [49] FALSE FALSE FALSE FALSE FALSE FALSE FALSE FALSE FALSE FALSE FALSE FALSE\n",
              " [61] FALSE FALSE FALSE FALSE FALSE FALSE FALSE FALSE FALSE FALSE FALSE FALSE\n",
              " [73] FALSE FALSE FALSE FALSE FALSE FALSE FALSE FALSE FALSE FALSE FALSE FALSE\n",
              " [85] FALSE FALSE FALSE FALSE FALSE FALSE FALSE FALSE FALSE FALSE FALSE FALSE\n",
              " [97] FALSE FALSE FALSE FALSE FALSE FALSE FALSE FALSE FALSE FALSE FALSE FALSE\n",
              "[109] FALSE FALSE FALSE FALSE FALSE FALSE FALSE FALSE FALSE FALSE FALSE FALSE\n",
              "[121] FALSE FALSE FALSE FALSE FALSE FALSE FALSE FALSE FALSE FALSE FALSE FALSE\n",
              "[133] FALSE FALSE FALSE FALSE FALSE FALSE FALSE FALSE FALSE FALSE FALSE FALSE\n",
              "[145] FALSE FALSE FALSE FALSE FALSE FALSE FALSE FALSE FALSE FALSE FALSE FALSE\n",
              "[157] FALSE FALSE FALSE FALSE FALSE FALSE FALSE FALSE FALSE FALSE FALSE FALSE\n",
              "[169] FALSE FALSE FALSE FALSE FALSE FALSE FALSE FALSE FALSE FALSE FALSE FALSE\n",
              "[181] FALSE FALSE FALSE FALSE FALSE FALSE FALSE FALSE FALSE FALSE FALSE FALSE\n",
              "[193] FALSE FALSE FALSE FALSE FALSE FALSE FALSE FALSE FALSE FALSE FALSE FALSE\n",
              "[205] FALSE FALSE FALSE FALSE FALSE FALSE FALSE FALSE FALSE FALSE FALSE FALSE\n",
              "[217] FALSE FALSE FALSE FALSE FALSE FALSE FALSE FALSE FALSE FALSE FALSE FALSE\n",
              "[229] FALSE FALSE FALSE FALSE FALSE FALSE FALSE FALSE FALSE FALSE FALSE FALSE\n",
              "[241] FALSE FALSE FALSE FALSE FALSE FALSE FALSE FALSE FALSE FALSE FALSE FALSE\n",
              "[253] FALSE FALSE FALSE FALSE FALSE FALSE FALSE FALSE FALSE FALSE FALSE FALSE\n",
              "[265] FALSE FALSE FALSE FALSE FALSE FALSE FALSE FALSE FALSE FALSE FALSE FALSE\n",
              "[277] FALSE FALSE FALSE FALSE FALSE FALSE FALSE FALSE FALSE FALSE FALSE FALSE\n",
              "[289] FALSE FALSE FALSE FALSE FALSE FALSE FALSE FALSE FALSE FALSE FALSE FALSE\n",
              "[301] FALSE FALSE FALSE FALSE FALSE FALSE FALSE FALSE FALSE FALSE FALSE FALSE\n",
              "[313] FALSE FALSE FALSE FALSE FALSE FALSE FALSE FALSE FALSE FALSE FALSE FALSE\n",
              "[325] FALSE FALSE FALSE FALSE FALSE FALSE FALSE FALSE FALSE FALSE FALSE FALSE\n",
              "[337] FALSE FALSE FALSE FALSE FALSE FALSE FALSE FALSE FALSE FALSE FALSE FALSE\n",
              "[349] FALSE FALSE FALSE FALSE FALSE FALSE FALSE FALSE FALSE FALSE FALSE FALSE\n",
              "[361] FALSE FALSE FALSE FALSE FALSE FALSE FALSE FALSE FALSE FALSE FALSE FALSE\n",
              "[373] FALSE FALSE FALSE FALSE FALSE FALSE FALSE FALSE FALSE FALSE FALSE FALSE\n",
              "[385] FALSE FALSE FALSE FALSE FALSE FALSE FALSE FALSE FALSE FALSE FALSE FALSE\n",
              "[397] FALSE FALSE FALSE FALSE FALSE FALSE FALSE FALSE FALSE FALSE FALSE FALSE\n",
              "[409] FALSE FALSE FALSE FALSE FALSE FALSE FALSE FALSE FALSE FALSE"
            ]
          },
          "metadata": {},
          "output_type": "display_data"
        }
      ],
      "source": [
        "duplicated(titanic)"
      ]
    },
    {
      "cell_type": "markdown",
      "metadata": {
        "id": "PRsxdO9JLHIw"
      },
      "source": [
        "### **Remove unnecessary variables**"
      ]
    },
    {
      "cell_type": "code",
      "execution_count": 7,
      "metadata": {
        "colab": {
          "base_uri": "https://localhost:8080/"
        },
        "id": "ot1PpX1rLHI0",
        "outputId": "7f981fd5-274a-47bb-c7ef-68b6af53dc89",
        "vscode": {
          "languageId": "r"
        }
      },
      "outputs": [
        {
          "name": "stderr",
          "output_type": "stream",
          "text": [
            "\n",
            "Attaching package: ‘dplyr’\n",
            "\n",
            "\n",
            "The following objects are masked from ‘package:stats’:\n",
            "\n",
            "    filter, lag\n",
            "\n",
            "\n",
            "The following objects are masked from ‘package:base’:\n",
            "\n",
            "    intersect, setdiff, setequal, union\n",
            "\n",
            "\n"
          ]
        }
      ],
      "source": [
        "library(dplyr)\n",
        "titanic=titanic%>%\n",
        "  select(-c('PassengerId','Name','Ticket','Cabin'))\n"
      ]
    },
    {
      "cell_type": "markdown",
      "metadata": {
        "id": "UWQYiHqMLHI4"
      },
      "source": [
        "### **Convert data type**"
      ]
    },
    {
      "cell_type": "code",
      "execution_count": 8,
      "metadata": {
        "id": "WJ8-LjHaLHI6",
        "vscode": {
          "languageId": "r"
        }
      },
      "outputs": [],
      "source": [
        "titanic$Survived=as.factor(titanic$Survived)\n",
        "titanic$Pclass=as.factor(titanic$Pclass)\n",
        "titanic$Sex=as.factor(titanic$Sex)\n",
        "titanic$Embarked=as.factor(titanic$Embarked)"
      ]
    },
    {
      "cell_type": "markdown",
      "metadata": {
        "id": "wEkKOwwILHI7"
      },
      "source": [
        "## **Exploratory Data Analysis**\n",
        "\n",
        "### **Numeric variable**"
      ]
    },
    {
      "cell_type": "code",
      "execution_count": 9,
      "metadata": {
        "colab": {
          "base_uri": "https://localhost:8080/",
          "height": 437
        },
        "id": "bOI5okrZLHI9",
        "outputId": "b73a8702-8a56-4de6-995a-4d5e62f315c9",
        "vscode": {
          "languageId": "r"
        }
      },
      "outputs": [
        {
          "data": {
            "image/png": "[encoded data removed]",
            "text/plain": [
              "plot without title"
            ]
          },
          "metadata": {
            "image/png": {
              "height": 420,
              "width": 420
            }
          },
          "output_type": "display_data"
        }
      ],
      "source": [
        "library(ggplot2)\n",
        "\n",
        "ggplot(titanic,aes(Age))+\n",
        "  geom_histogram(bins=25,fill='#03E2ED')+\n",
        "  theme_classic()+\n",
        "  theme(axis.text.x=element_text(size=8,face = 'bold',color='black'),\n",
        "        axis.text.y=element_text(size=8,face='bold',color='black'))+\n",
        "  labs(title = 'Distribution of Age',y='Count of Passengers')"
      ]
    },
    {
      "cell_type": "code",
      "execution_count": 10,
      "metadata": {
        "colab": {
          "base_uri": "https://localhost:8080/",
          "height": 437
        },
        "id": "rmIKRB83LHI_",
        "outputId": "af953676-b4a9-41da-a67d-80a2df0d96ee",
        "vscode": {
          "languageId": "r"
        }
      },
      "outputs": [
        {
          "data": {
            "image/png": "[encoded data removed]",
            "text/plain": [
              "plot without title"
            ]
          },
          "metadata": {
            "image/png": {
              "height": 420,
              "width": 420
            }
          },
          "output_type": "display_data"
        }
      ],
      "source": [
        "ggplot(titanic,aes(Fare))+\n",
        "  geom_histogram(bins=25,fill='#03E2ED')+\n",
        "  theme_classic()+\n",
        "  theme(axis.text.x=element_text(size=8,face = 'bold',color='black'),\n",
        "        axis.text.y=element_text(size=8,face='bold',color='black'))+\n",
        "  labs(title = 'Distribution of Fare',y='Count of Passengers')"
      ]
    },
    {
      "cell_type": "code",
      "execution_count": 11,
      "metadata": {
        "colab": {
          "base_uri": "https://localhost:8080/",
          "height": 454
        },
        "id": "kUO2MiBqLHJA",
        "outputId": "07107eef-32dc-446b-c81d-343c82ce6f2c",
        "vscode": {
          "languageId": "r"
        }
      },
      "outputs": [
        {
          "name": "stderr",
          "output_type": "stream",
          "text": [
            "\u001b[1m\u001b[22m`geom_smooth()` using formula = 'y ~ x'\n"
          ]
        },
        {
          "data": {
            "image/png": "[encoded data removed]",
            "text/plain": [
              "plot without title"
            ]
          },
          "metadata": {
            "image/png": {
              "height": 420,
              "width": 420
            }
          },
          "output_type": "display_data"
        }
      ],
      "source": [
        "ggplot(titanic,aes(Age,Fare))+\n",
        "  geom_point(color='#03E2ED')+\n",
        "  geom_smooth(method = 'lm', se=F,color='maroon')+\n",
        "  theme_classic()+\n",
        "  theme(axis.text.x=element_text(size=8,face = 'bold',color='black'),\n",
        "        axis.text.y=element_text(size=8,face='bold',color='black'))+\n",
        "  labs(title = 'Distribution of Age by Survived')"
      ]
    },
    {
      "cell_type": "markdown",
      "metadata": {
        "id": "nIfeVheyLHJB"
      },
      "source": [
        "### **Categorical variable**"
      ]
    },
    {
      "cell_type": "code",
      "execution_count": 12,
      "metadata": {
        "colab": {
          "base_uri": "https://localhost:8080/",
          "height": 437
        },
        "id": "5-bvCpWRLHJB",
        "outputId": "78956277-722c-4357-b9cd-cb568602dac5",
        "vscode": {
          "languageId": "r"
        }
      },
      "outputs": [
        {
          "data": {
            "image/png": "[encoded data removed]",
            "text/plain": [
              "plot without title"
            ]
          },
          "metadata": {
            "image/png": {
              "height": 420,
              "width": 420
            }
          },
          "output_type": "display_data"
        }
      ],
      "source": [
        "ggplot(titanic,aes(Survived))+\n",
        "  geom_bar(fill='#03E2ED')+\n",
        "  theme_classic()+\n",
        "  theme(axis.text.x=element_text(size=8,face = 'bold',color='black'),\n",
        "        axis.text.y=element_text(size=8,face='bold',color='black'))+\n",
        "  labs(title = 'Passenger Survival',y='Count of Passengers')"
      ]
    },
    {
      "cell_type": "markdown",
      "metadata": {},
      "source": [
        "**1 means The Passenger Survived.**\n",
        "\n",
        "**0 means The Passenger did not Survive.**"
      ]
    },
    {
      "cell_type": "code",
      "execution_count": 13,
      "metadata": {
        "colab": {
          "base_uri": "https://localhost:8080/",
          "height": 437
        },
        "id": "kh4waeS8LHJC",
        "outputId": "c39bf4e5-50b1-4f0a-febe-28a61b80f43e",
        "vscode": {
          "languageId": "r"
        }
      },
      "outputs": [
        {
          "data": {
            "image/png": "[encoded data removed]",
            "text/plain": [
              "plot without title"
            ]
          },
          "metadata": {
            "image/png": {
              "height": 420,
              "width": 420
            }
          },
          "output_type": "display_data"
        }
      ],
      "source": [
        "ggplot(titanic,aes(Survived,Age))+\n",
        "  geom_boxplot(fill='#03E2ED')+\n",
        "  theme_classic()+\n",
        "  theme(axis.text.x=element_text(size=8,face = 'bold',color='black'),\n",
        "        axis.text.y=element_text(size=8,face='bold',color='black'))+\n",
        "  labs(title = 'Distribution of Age by Survived')"
      ]
    },
    {
      "cell_type": "code",
      "execution_count": 14,
      "metadata": {
        "colab": {
          "base_uri": "https://localhost:8080/",
          "height": 437
        },
        "id": "UARIVgqJLHJD",
        "outputId": "12e8f861-fdaf-4b2d-ae29-6a90b82ea95d",
        "vscode": {
          "languageId": "r"
        }
      },
      "outputs": [
        {
          "data": {
            "image/png": "[encoded data removed]",
            "text/plain": [
              "plot without title"
            ]
          },
          "metadata": {
            "image/png": {
              "height": 420,
              "width": 420
            }
          },
          "output_type": "display_data"
        }
      ],
      "source": [
        "ggplot(titanic,aes(Survived,Fare))+\n",
        "  geom_boxplot(fill='#03E2ED')+\n",
        "  theme_classic()+\n",
        "  theme(axis.text.x=element_text(size=8,face = 'bold',color='black'),\n",
        "        axis.text.y=element_text(size=8,face='bold',color='black'))+\n",
        "  labs(title = 'Distribution of Fare by Survived')"
      ]
    },
    {
      "cell_type": "code",
      "execution_count": 15,
      "metadata": {
        "colab": {
          "base_uri": "https://localhost:8080/",
          "height": 437
        },
        "id": "dbx7eVTdLHJE",
        "outputId": "1e5bbd99-84a9-4114-fd23-288c9e9747d8",
        "vscode": {
          "languageId": "r"
        }
      },
      "outputs": [
        {
          "data": {
            "image/png": "[encoded data removed]",
            "text/plain": [
              "plot without title"
            ]
          },
          "metadata": {
            "image/png": {
              "height": 420,
              "width": 420
            }
          },
          "output_type": "display_data"
        }
      ],
      "source": [
        "ggplot(titanic,aes(Pclass,Fare))+\n",
        "  geom_boxplot(fill='#03E2ED')+\n",
        "  theme_classic()+\n",
        "  theme(axis.text.x=element_text(size=8,face = 'bold',color='black'),\n",
        "        axis.text.y=element_text(size=8,face='bold',color='black'))+\n",
        "  labs(title = 'Distribution of Fare by Pclass')"
      ]
    },
    {
      "cell_type": "code",
      "execution_count": 16,
      "metadata": {
        "colab": {
          "base_uri": "https://localhost:8080/",
          "height": 437
        },
        "id": "WUpByVslLHJF",
        "outputId": "f2e9f680-6296-40e9-987b-0075d7264d60",
        "vscode": {
          "languageId": "r"
        }
      },
      "outputs": [
        {
          "data": {
            "image/png": "[encoded data removed]",
            "text/plain": [
              "plot without title"
            ]
          },
          "metadata": {
            "image/png": {
              "height": 420,
              "width": 420
            }
          },
          "output_type": "display_data"
        }
      ],
      "source": [
        "ggplot(titanic,aes(Embarked,Fare))+\n",
        "  geom_boxplot(fill='#03E2ED')+\n",
        "  theme_classic()+\n",
        "  theme(axis.text.x=element_text(size=8,face = 'bold',color='black'),\n",
        "        axis.text.y=element_text(size=8,face='bold',color='black'))+\n",
        "  labs(title = 'Distribution of Fare by Embarked')"
      ]
    },
    {
      "cell_type": "code",
      "execution_count": null,
      "metadata": {
        "id": "NCZJca9nMOAf",
        "vscode": {
          "languageId": "r"
        }
      },
      "outputs": [],
      "source": [
        "# Only run the three lines of code below if you don't have the package already installed.\n",
        "#install.packages(\"caTools\")\n",
        "#install.packages(\"rpart\")\n",
        "#install.packages(\"caret\")"
      ]
    },
    {
      "cell_type": "markdown",
      "metadata": {
        "id": "lHLMG_JvLHJG"
      },
      "source": [
        "## **Split dataset into two**"
      ]
    },
    {
      "cell_type": "code",
      "execution_count": 21,
      "metadata": {
        "id": "darHWKkyLHJG",
        "vscode": {
          "languageId": "r"
        }
      },
      "outputs": [],
      "source": [
        "library(caTools)\n",
        "set.seed(13579)\n",
        "sample=sample.split(titanic$Survived,SplitRatio=.70)\n",
        "train=subset(titanic,sample==TRUE)\n",
        "test=subset(titanic,!sample==TRUE)"
      ]
    },
    {
      "cell_type": "markdown",
      "metadata": {
        "id": "wdhsl3WYLHJH"
      },
      "source": [
        "## **Build a Decision Tree model**"
      ]
    },
    {
      "cell_type": "code",
      "execution_count": 22,
      "metadata": {
        "id": "ajFT717CLHJH",
        "vscode": {
          "languageId": "r"
        }
      },
      "outputs": [],
      "source": [
        "library(rpart)\n",
        "dt.model=rpart(Survived~.,train)"
      ]
    },
    {
      "cell_type": "markdown",
      "metadata": {
        "id": "HIZlrrEgLHJI"
      },
      "source": [
        "## **Make a prediction using test data**"
      ]
    },
    {
      "cell_type": "code",
      "execution_count": 23,
      "metadata": {
        "id": "YdUnTFlALHJJ",
        "vscode": {
          "languageId": "r"
        }
      },
      "outputs": [],
      "source": [
        "dt.model.test=predict(dt.model, test, type='class')"
      ]
    },
    {
      "cell_type": "markdown",
      "metadata": {
        "id": "cJaIiueGLHJK"
      },
      "source": [
        "## **Model Performance**"
      ]
    },
    {
      "cell_type": "code",
      "execution_count": 24,
      "metadata": {
        "colab": {
          "base_uri": "https://localhost:8080/",
          "height": 521
        },
        "id": "7GnONeYMLHJL",
        "outputId": "8c464f2b-89d7-4f76-b0f5-2af39d75ea72",
        "vscode": {
          "languageId": "r"
        }
      },
      "outputs": [
        {
          "name": "stderr",
          "output_type": "stream",
          "text": [
            "Loading required package: lattice\n",
            "\n"
          ]
        },
        {
          "data": {
            "text/plain": [
              "Confusion Matrix and Statistics\n",
              "\n",
              "   dt.model.test\n",
              "     0  1\n",
              "  0 80  0\n",
              "  1  0 46\n",
              "                                     \n",
              "               Accuracy : 1          \n",
              "                 95% CI : (0.9711, 1)\n",
              "    No Information Rate : 0.6349     \n",
              "    P-Value [Acc > NIR] : < 2.2e-16  \n",
              "                                     \n",
              "                  Kappa : 1          \n",
              "                                     \n",
              " Mcnemar's Test P-Value : NA         \n",
              "                                     \n",
              "            Sensitivity : 1.0000     \n",
              "            Specificity : 1.0000     \n",
              "         Pos Pred Value : 1.0000     \n",
              "         Neg Pred Value : 1.0000     \n",
              "             Prevalence : 0.6349     \n",
              "         Detection Rate : 0.6349     \n",
              "   Detection Prevalence : 0.6349     \n",
              "      Balanced Accuracy : 1.0000     \n",
              "                                     \n",
              "       'Positive' Class : 0          \n",
              "                                     "
            ]
          },
          "metadata": {},
          "output_type": "display_data"
        }
      ],
      "source": [
        "library(caret)\n",
        "tad=table(test$Survived, dt.model.test)\n",
        "confusionMatrix(tad)"
      ]
    },
    {
      "cell_type": "markdown",
      "metadata": {
        "id": "h3r6qc8zObZJ"
      },
      "source": [
        "## **Conclusion**\n",
        "**In conclusion, the Decision Tree model proved to be highly effective in predicting the survival of passengers on the Titanic. With an impressive accuracy rate of 100%, this model demonstrated its ability to accurately classify passengers into survival categories.**\n",
        "\n",
        "**This outcome highlights the potential of using machine learning algorithms, such as the Decision Tree model, to analyze and predict complex scenarios like the Titanic disaster. By leveraging the power of data and advanced analytics, we can gain valuable insights and make informed decisions in various domains. The success of this model underscores the importance of utilizing advanced techniques in data analysis and prediction tasks.**"
      ]
    }
  ],
  "metadata": {
    "colab": {
      "provenance": []
    },
    "kernelspec": {
      "display_name": "R",
      "language": "R",
      "name": "ir"
    },
    "language_info": {
      "codemirror_mode": "r",
      "file_extension": ".r",
      "mimetype": "text/x-r-source",
      "name": "R",
      "pygments_lexer": "r",
      "version": "3.6.1"
    }
  },
  "nbformat": 4,
  "nbformat_minor": 0
}
